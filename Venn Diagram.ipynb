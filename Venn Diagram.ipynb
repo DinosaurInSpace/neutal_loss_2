{
 "cells": [
  {
   "cell_type": "code",
   "execution_count": 28,
   "metadata": {},
   "outputs": [],
   "source": [
    "import pickle\n",
    "import pandas as pd\n",
    "from pandas import DataFrame as df\n",
    "from matplotlib import pyplot as plt\n",
    "from matplotlib_venn import venn2, venn2_circles, venn3, venn3_circles"
   ]
  },
  {
   "cell_type": "code",
   "execution_count": 29,
   "metadata": {},
   "outputs": [],
   "source": [
    "path = '/Users/dis/PycharmProjects/colocalization-plot/hmdb_structures_CA_OH.pickle'\n",
    "rd_patterns = pd.read_pickle(path)"
   ]
  },
  {
   "cell_type": "code",
   "execution_count": 30,
   "metadata": {},
   "outputs": [
    {
     "data": {
      "text/plain": [
       "Index(['id', 'a_CA', 'b_CA', 'c_CA', 'd_OH', 'e_OH', 'a_CA-b_CA', 'a_CA-c_CA',\n",
       "       'a_CA-d_OH', 'a_CA-e_OH', 'b_CA-c_CA', 'b_CA-d_OH', 'b_CA-e_OH',\n",
       "       'c_CA-d_OH', 'c_CA-e_OH', 'd_OH-e_OH', 'a_CA-b_CA-c_CA',\n",
       "       'a_CA-b_CA-d_OH', 'a_CA-b_CA-e_OH', 'a_CA-c_CA-d_OH', 'a_CA-c_CA-e_OH',\n",
       "       'a_CA-d_OH-e_OH', 'b_CA-c_CA-d_OH', 'b_CA-c_CA-e_OH', 'b_CA-d_OH-e_OH',\n",
       "       'c_CA-d_OH-e_OH', 'a_CA-b_CA-c_CA-d_OH', 'a_CA-b_CA-c_CA-e_OH',\n",
       "       'a_CA-b_CA-d_OH-e_OH', 'a_CA-c_CA-d_OH-e_OH', 'b_CA-c_CA-d_OH-e_OH',\n",
       "       'a_CA-b_CA-c_CA-d_OH-e_OH'],\n",
       "      dtype='object')"
      ]
     },
     "execution_count": 30,
     "metadata": {},
     "output_type": "execute_result"
    }
   ],
   "source": [
    "rd_patterns.columns"
   ]
  },
  {
   "cell_type": "code",
   "execution_count": 31,
   "metadata": {},
   "outputs": [],
   "source": [
    "rdp = rd_patterns[['id', 'a_CA', 'b_CA', 'c_CA', 'd_OH', 'e_OH',]]"
   ]
  },
  {
   "cell_type": "code",
   "execution_count": 34,
   "metadata": {},
   "outputs": [],
   "source": [
    "rdp = rdp.astype({'id':'str', 'a_CA':'bool', 'b_CA':'bool', 'c_CA':'bool', \n",
    "            'd_OH':'bool', 'e_OH':'bool'})"
   ]
  },
  {
   "cell_type": "code",
   "execution_count": 56,
   "metadata": {},
   "outputs": [],
   "source": [
    "CA = rdp[['id', 'a_CA', 'b_CA', 'c_CA']]"
   ]
  },
  {
   "cell_type": "code",
   "execution_count": 57,
   "metadata": {},
   "outputs": [
    {
     "name": "stderr",
     "output_type": "stream",
     "text": [
      "/Users/dis/anaconda3/envs/lcenv/lib/python3.6/site-packages/ipykernel_launcher.py:1: SettingWithCopyWarning: \n",
      "A value is trying to be set on a copy of a slice from a DataFrame.\n",
      "Try using .loc[row_indexer,col_indexer] = value instead\n",
      "\n",
      "See the caveats in the documentation: http://pandas.pydata.org/pandas-docs/stable/user_guide/indexing.html#returning-a-view-versus-a-copy\n",
      "  \"\"\"Entry point for launching an IPython kernel.\n",
      "/Users/dis/anaconda3/envs/lcenv/lib/python3.6/site-packages/ipykernel_launcher.py:2: SettingWithCopyWarning: \n",
      "A value is trying to be set on a copy of a slice from a DataFrame.\n",
      "Try using .loc[row_indexer,col_indexer] = value instead\n",
      "\n",
      "See the caveats in the documentation: http://pandas.pydata.org/pandas-docs/stable/user_guide/indexing.html#returning-a-view-versus-a-copy\n",
      "  \n"
     ]
    }
   ],
   "source": [
    "CA['Abc'] = CA.apply(lambda x: (x.a_CA and not x.b_CA and not x.c_CA), axis =1) \n",
    "CA['aBc'] = CA.apply(lambda x: (not x.a_CA and x.b_CA and not x.c_CA), axis =1) \n",
    "CA['abC'] = CA.apply(lambda x: (not x.a_CA and not x.b_CA and x.c_CA), axis =1) \n",
    "CA['ABc'] = CA.apply(lambda x: (x.a_CA and x.b_CA and not x.c_CA), axis =1) \n",
    "CA['AbC'] = CA.apply(lambda x: (x.a_CA and not x.b_CA and x.c_CA), axis =1) \n",
    "CA['aBC'] = CA.apply(lambda x: (not x.a_CA and x.b_CA and x.c_CA), axis =1) \n",
    "CA['ABC'] = CA.apply(lambda x: (x.a_CA and x.b_CA and x.c_CA), axis =1) "
   ]
  },
  {
   "cell_type": "code",
   "execution_count": 59,
   "metadata": {},
   "outputs": [],
   "source": [
    "CA['abc'] = CA.apply(lambda x: (not x.a_CA and not x.b_CA and not x.c_CA), axis =1) "
   ]
  },
  {
   "cell_type": "code",
   "execution_count": 66,
   "metadata": {},
   "outputs": [],
   "source": [
    "ca_stats = CA.sum(axis=0)"
   ]
  },
  {
   "cell_type": "code",
   "execution_count": 65,
   "metadata": {},
   "outputs": [
    {
     "data": {
      "text/plain": [
       "<bound method Series.to_dict of id      HMDB0000001HMDB0000002HMDB0000005HMDB0000008HM...\n",
       "a_CA                                                10225\n",
       "b_CA                                                  641\n",
       "c_CA                                                11260\n",
       "Abc                                                 False\n",
       "aBc                                                 False\n",
       "abC                                                   566\n",
       "ABc                                                 False\n",
       "AbC                                                 10053\n",
       "aBC                                                   469\n",
       "ABC                                                   172\n",
       "abc                                                102836\n",
       "dtype: object>"
      ]
     },
     "execution_count": 65,
     "metadata": {},
     "output_type": "execute_result"
    }
   ],
   "source": [
    "ca_stats"
   ]
  },
  {
   "cell_type": "code",
   "execution_count": 69,
   "metadata": {},
   "outputs": [
    {
     "name": "stderr",
     "output_type": "stream",
     "text": [
      "/Users/dis/anaconda3/envs/lcenv/lib/python3.6/site-packages/matplotlib_venn/_venn3.py:117: UserWarning: Bad circle positioning\n",
      "  warnings.warn(\"Bad circle positioning\")\n"
     ]
    },
    {
     "data": {
      "image/png": "[encoded data removed]",
      "text/plain": [
       "<Figure size 432x288 with 1 Axes>"
      ]
     },
     "metadata": {},
     "output_type": "display_data"
    }
   ],
   "source": [
    "CA_venn = venn3(subsets = (0, 0, 0, 566, 10053, 469, 172))"
   ]
  },
  {
   "cell_type": "code",
   "execution_count": 70,
   "metadata": {},
   "outputs": [],
   "source": [
    "OH = rdp[['id', 'd_OH', 'e_OH',]]"
   ]
  },
  {
   "cell_type": "code",
   "execution_count": 76,
   "metadata": {},
   "outputs": [],
   "source": [
    "OH['de'] = OH.apply(lambda x: (not x.d_OH and not x.e_OH), axis =1) \n",
    "OH['De'] = OH.apply(lambda x: (x.d_OH and not x.e_OH), axis =1) \n",
    "OH['dE'] = OH.apply(lambda x: (not x.d_OH and x.e_OH), axis =1) \n",
    "OH['DE'] = OH.apply(lambda x: (x.d_OH and x.e_OH), axis =1) "
   ]
  },
  {
   "cell_type": "code",
   "execution_count": 77,
   "metadata": {},
   "outputs": [],
   "source": [
    "OH_stats = OH.sum(axis=0)"
   ]
  },
  {
   "cell_type": "code",
   "execution_count": 78,
   "metadata": {},
   "outputs": [
    {
     "data": {
      "text/plain": [
       "id      HMDB0000001HMDB0000002HMDB0000005HMDB0000008HM...\n",
       "d_OH                                                53526\n",
       "e_OH                                                12739\n",
       "ab                                                  55225\n",
       "Ab                                                  46132\n",
       "aB                                                   5345\n",
       "AB                                                   7394\n",
       "de                                                  55225\n",
       "De                                                  46132\n",
       "dE                                                   5345\n",
       "DE                                                   7394\n",
       "dtype: object"
      ]
     },
     "execution_count": 78,
     "metadata": {},
     "output_type": "execute_result"
    }
   ],
   "source": [
    "OH_stats"
   ]
  },
  {
   "cell_type": "code",
   "execution_count": 79,
   "metadata": {},
   "outputs": [
    {
     "data": {
      "image/png": "[encoded data removed]",
      "text/plain": [
       "<Figure size 432x288 with 1 Axes>"
      ]
     },
     "metadata": {},
     "output_type": "display_data"
    }
   ],
   "source": [
    "CA_venn = venn2(subsets = (46132, 5345, 7394))"
   ]
  },
  {
   "cell_type": "code",
   "execution_count": null,
   "metadata": {},
   "outputs": [],
   "source": []
  }
 ],
 "metadata": {
  "kernelspec": {
   "display_name": "Python 3",
   "language": "python",
   "name": "python3"
  },
  "language_info": {
   "codemirror_mode": {
    "name": "ipython",
    "version": 3
   },
   "file_extension": ".py",
   "mimetype": "text/x-python",
   "name": "python",
   "nbconvert_exporter": "python",
   "pygments_lexer": "ipython3",
   "version": "3.6.8"
  }
 },
 "nbformat": 4,
 "nbformat_minor": 2
}
