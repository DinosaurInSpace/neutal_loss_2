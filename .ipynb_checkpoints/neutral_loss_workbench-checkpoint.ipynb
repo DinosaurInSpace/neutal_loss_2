{
 "cells": [
  {
   "cell_type": "raw",
   "metadata": {},
   "source": [
    "Purpose: \n",
    "The workbook contains the functions for processing neutral loss analyses.\n",
    "\n",
    "Data to process:\n",
    "\n",
    "\"\n",
    "Here's the data for -CN, -NH2, -COH, and -CO2H, and the code I used to pull it from METASPACE\n",
    "\""
   ]
  },
  {
   "cell_type": "code",
   "execution_count": null,
   "metadata": {},
   "outputs": [],
   "source": []
  }
 ],
 "metadata": {
  "kernelspec": {
   "display_name": "Python 3",
   "language": "python",
   "name": "python3"
  },
  "language_info": {
   "codemirror_mode": {
    "name": "ipython",
    "version": 3
   },
   "file_extension": ".py",
   "mimetype": "text/x-python",
   "name": "python",
   "nbconvert_exporter": "python",
   "pygments_lexer": "ipython3",
   "version": "3.6.8"
  }
 },
 "nbformat": 4,
 "nbformat_minor": 2
}
